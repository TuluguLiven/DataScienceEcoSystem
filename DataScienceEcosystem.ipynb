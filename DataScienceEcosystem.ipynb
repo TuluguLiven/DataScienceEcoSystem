{
  "metadata": {
    "kernelspec": {
      "name": "xpython",
      "display_name": "Python 3.13 (XPython)",
      "language": "python"
    },
    "language_info": {
      "file_extension": ".py",
      "mimetype": "text/x-python",
      "name": "python",
      "version": "3.13.1"
    }
  },
  "nbformat_minor": 5,
  "nbformat": 4,
  "cells": [
    {
      "id": "f37bad79-7fde-4ff5-b409-c375789621f0",
      "cell_type": "markdown",
      "source": "## Data Science Tools and Ecosystem\nIn this notebook, Data Science Tools and Ecosystem are summarized.",
      "metadata": {}
    },
    {
      "id": "2f3dcf53-efa2-4b14-b129-093bcb69e288",
      "cell_type": "markdown",
      "source": "",
      "metadata": {}
    },
    {
      "id": "2575f699-18c2-46bd-a0d3-e83b4f7aec32",
      "cell_type": "markdown",
      "source": "Some of the popular languages that Data Scientists use are:\n\n1. Python  \n2. R  \n3. SQL  \n4. Julia  \n5. Scala  \n",
      "metadata": {}
    },
    {
      "id": "0d82d445-78dc-4fcc-974c-5caf3b8d5f01",
      "cell_type": "markdown",
      "source": "Some of the commonly used libraries used by Data Scientists include:\n\n1. NumPy  \n2. Pandas  \n3. Matplotlib  \n4. Scikit-learn  \n5. TensorFlow  \n",
      "metadata": {}
    },
    {
      "id": "b4be6728-eac9-4b22-b1c7-5bf30cc62719",
      "cell_type": "markdown",
      "source": "| Data Science Tools |\n|--------------------|\n| Jupyter Notebook   |\n| RStudio            |\n| VS Code            |\n",
      "metadata": {}
    },
    {
      "id": "bda0726a-77ba-4040-97b1-809c6feda6bc",
      "cell_type": "markdown",
      "source": "### Below are a few examples of evaluating arithmetic expressions in Python.\n",
      "metadata": {}
    },
    {
      "id": "5348d455-8f35-4e0f-8ae8-a76e21a77ac5",
      "cell_type": "code",
      "source": "# This is a simple arithmetic expression to multiply then add integers\n(3 * 4) + 5\n",
      "metadata": {
        "trusted": true
      },
      "outputs": [
        {
          "execution_count": 3,
          "output_type": "execute_result",
          "data": {
            "text/plain": "17"
          },
          "metadata": {}
        }
      ],
      "execution_count": 3
    },
    {
      "id": "01d6b57b-6e4a-415d-9e10-d042569c6b00",
      "cell_type": "code",
      "source": "# This will convert 200 minutes to hours by dividing by 60\n200 / 60\n",
      "metadata": {
        "trusted": true
      },
      "outputs": [
        {
          "execution_count": 4,
          "output_type": "execute_result",
          "data": {
            "text/plain": "3.3333333333333335"
          },
          "metadata": {}
        }
      ],
      "execution_count": 4
    },
    {
      "id": "459dba82-14b4-4351-88ec-76ebbca56589",
      "cell_type": "markdown",
      "source": "**Objectives:**\n\n- List popular languages for Data Science  \n- Identify commonly used libraries in Data Science  \n- Create tables in Markdown  \n- Perform basic arithmetic operations in Python  \n- Convert units using Python expressions  \n",
      "metadata": {}
    },
    {
      "id": "9f98a2b3-1894-4e27-b920-506948be44b2",
      "cell_type": "markdown",
      "source": "## Author\nLiven Tulugu\n",
      "metadata": {}
    },
    {
      "id": "91ddccc0-29d8-4ca8-8975-6461a940bc27",
      "cell_type": "code",
      "source": "",
      "metadata": {
        "trusted": true
      },
      "outputs": [],
      "execution_count": null
    }
  ]
}